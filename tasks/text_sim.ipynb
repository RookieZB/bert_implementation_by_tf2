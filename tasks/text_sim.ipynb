{
 "cells": [
  {
   "cell_type": "markdown",
   "metadata": {
    "colab_type": "text",
    "id": "toQJl6Q4xjDp"
   },
   "source": [
    "A text similarity classification example for ALBERT using Google Colab.  \n",
    "The data is from LCQMC.\n"
   ]
  },
  {
   "cell_type": "code",
   "execution_count": 0,
   "metadata": {
    "colab": {},
    "colab_type": "code",
    "id": "wV-pmJAuQPmG"
   },
   "outputs": [],
   "source": [
    "from google.colab import drive\n",
    "drive.mount('/content/drive')"
   ]
  },
  {
   "cell_type": "code",
   "execution_count": 0,
   "metadata": {
    "colab": {},
    "colab_type": "code",
    "id": "rBlT22miZU8c"
   },
   "outputs": [],
   "source": [
    "%tensorflow_version 2.x\n",
    "\n",
    "import os\n",
    "import warnings\n",
    "import time\n",
    "import json\n",
    "import numpy as np\n",
    "import pandas as pd\n",
    "import tensorflow as tf\n",
    "import tensorflow.keras as keras\n",
    "\n",
    "os.chdir('./drive/My Drive/Python/Research/bert')\n",
    "warnings.filterwarnings('ignore')\n",
    "\n",
    "import mymodels as mm"
   ]
  },
  {
   "cell_type": "code",
   "execution_count": 0,
   "metadata": {
    "colab": {},
    "colab_type": "code",
    "id": "4B2HpNZ7b9N7"
   },
   "outputs": [],
   "source": [
    "MODEL = 'albert'\n",
    "MAXLEN = 128\n",
    "CATE = 2\n",
    "DROP = 0.5\n",
    "DIM = 64\n",
    "LRATE = 1e-4\n",
    "BATCH = 64\n",
    "EPOCH = 5\n",
    "VOCAB = 'models/albert_tiny_ch/vocab.txt'\n",
    "CONFIG = 'models/albert_tiny_ch/albert_config_tiny_g.json'\n",
    "CKPT = 'models/albert_tiny_ch/albert_model.ckpt'"
   ]
  },
  {
   "cell_type": "code",
   "execution_count": 4,
   "metadata": {
    "colab": {
     "base_uri": "https://localhost:8080/",
     "height": 118
    },
    "colab_type": "code",
    "executionInfo": {
     "elapsed": 4512,
     "status": "ok",
     "timestamp": 1592048593385,
     "user": {
      "displayName": "twotwo耿",
      "photoUrl": "https://lh3.googleusercontent.com/a-/AOh14Ghxb2KsB3r-QIzNwMGfkePpyl9-6g9sGERnozQb=s64",
      "userId": "01978799571506321797"
     },
     "user_tz": -480
    },
    "id": "ik9wS_1LPBlC",
    "outputId": "a9b1a479-9f08-4a7d-e25f-2dd1a34c4dd5"
   },
   "outputs": [
    {
     "name": "stdout",
     "output_type": "stream",
     "text": [
      "            sentence1        sentence2  label\n",
      "0    喜欢打篮球的男生喜欢什么样的女生  爱打篮球的男生喜欢什么样的女生      1\n",
      "1        我手机丢了，我想换个手机      我想买个新手机，求推荐      1\n",
      "2            大家觉得她好看吗       大家觉得跑男好看吗？      0\n",
      "3           求秋色之空漫画全集        求秋色之空全集漫画      1\n",
      "4  晚上睡觉带着耳机听音乐有什么害处吗？     孕妇可以戴耳机听音乐吗?      0\n"
     ]
    }
   ],
   "source": [
    "trai_1 = pd.read_csv('tasks/datasets/lcqmc/train.csv')\n",
    "deve_1 = pd.read_csv('tasks/datasets/lcqmc/dev.csv')\n",
    "test_1 = pd.read_csv('tasks/datasets/lcqmc/test.csv')\n",
    "print(trai_1.head())"
   ]
  },
  {
   "cell_type": "code",
   "execution_count": 0,
   "metadata": {
    "colab": {},
    "colab_type": "code",
    "id": "cXuiXbNfYCuY"
   },
   "outputs": [],
   "source": [
    "def data_processing(data, tokenizer, maxlen, batch, training):\n",
    "  text1, type1, mask1, labe1 = [], [], [], []\n",
    "  \n",
    "  for i in range(len(data)):\n",
    "    if len(data['sentence1'][i])+len(data['sentence2'][i]) > maxlen-2:\n",
    "      continue\n",
    "\n",
    "    text2, type2, mask2 = tokenizer.encoding(data['sentence1'][i], data['sentence2'][i], maxlen)\n",
    "    labe2 = data['label'][i]\n",
    "    text1.append(text2)\n",
    "    type1.append(type2)\n",
    "    mask1.append(mask2)\n",
    "    labe1.append(labe2)\n",
    "\n",
    "  text1, type1, mask1, labe1 = np.array(text1), np.array(type1), np.array(mask1), np.array(labe1)\n",
    "  data1 = tf.data.Dataset.from_tensor_slices((text1, type1, mask1, labe1))\n",
    "  return data1.shuffle(len(text1)).batch(batch) if training else data1.batch(batch)\n",
    "\n",
    "\n",
    "toke_1 = mm.Tokenizer()\n",
    "toke_1.loading(VOCAB)\n",
    "trai_2 = data_processing(trai_1, toke_1, MAXLEN, BATCH, True)\n",
    "deve_2 = data_processing(deve_1, toke_1, MAXLEN, BATCH, False)\n",
    "test_2 = data_processing(test_1, toke_1, MAXLEN, BATCH, False)"
   ]
  },
  {
   "cell_type": "code",
   "execution_count": 0,
   "metadata": {
    "colab": {},
    "colab_type": "code",
    "id": "gzXMCDSad3rV"
   },
   "outputs": [],
   "source": [
    "class MyModel(keras.Model):\n",
    "  def __init__(self, model, config, drop, dim, category):\n",
    "    super(MyModel, self).__init__()\n",
    "    self.bert = mm.BERT(config, model)\n",
    "    self.drop = keras.layers.Dropout(drop)\n",
    "    self.dense1 = keras.layers.Dense(dim, activation='relu')\n",
    "    self.dense2 = keras.layers.Dense(category, activation='softmax')\n",
    "\n",
    "  def propagating(self, text, segment, mask, training):\n",
    "    x1 = self.bert.propagating(text, segment, mask, True, training)\n",
    "    x1 = self.drop(x1, training=training)\n",
    "    return self.dense2(self.dense1(x1))\n",
    "\n",
    "\n",
    "mode_1 = MyModel(MODEL, CONFIG, DROP, DIM, CATE)\n",
    "mode_1.bert.loading(CKPT)\n",
    "step_1 = EPOCH*(int(len(trai_1)/BATCH)+1)\n",
    "loss_0 = keras.losses.SparseCategoricalCrossentropy()\n",
    "opti_1 = mm.AdamW(step_1, LRATE)"
   ]
  },
  {
   "cell_type": "code",
   "execution_count": 0,
   "metadata": {
    "colab": {},
    "colab_type": "code",
    "id": "RxHmRINF9R2x"
   },
   "outputs": [],
   "source": [
    "loss_1 = tf.keras.metrics.Mean(name='training_loss')\n",
    "accu_1 = tf.keras.metrics.SparseCategoricalAccuracy(name='training_accuracy')\n",
    "loss_2 = tf.keras.metrics.Mean(name='dev_loss')\n",
    "accu_2 = tf.keras.metrics.SparseCategoricalAccuracy(name='dev_accuracy')\n",
    "\n",
    "\n",
    "@tf.function\n",
    "def step_training(text, segment, mask, y):\n",
    "  with tf.GradientTape() as tape_1:\n",
    "    pred_1 = mode_1.propagating(text, segment, mask, True)\n",
    "    valu_1 = loss_0(y, pred_1)\n",
    "\n",
    "  grad_1 = tape_1.gradient(valu_1, mode_1.trainable_variables)\n",
    "  grad_1, _ = tf.clip_by_global_norm(grad_1, 1.0)\n",
    "  opti_1.apply_gradients(zip(grad_1, mode_1.trainable_variables))\n",
    "  loss_1(valu_1)\n",
    "  accu_1(y, pred_1)\n",
    "\n",
    "\n",
    "@tf.function\n",
    "def step_evaluating(text, segment, mask, y):\n",
    "  pred_1 = mode_1.propagating(text, segment, mask, False)\n",
    "  valu_1 = loss_0(y, pred_1)\n",
    "  loss_2(valu_1)\n",
    "  accu_2(y, pred_1)"
   ]
  },
  {
   "cell_type": "code",
   "execution_count": 8,
   "metadata": {
    "colab": {
     "base_uri": "https://localhost:8080/",
     "height": 487
    },
    "colab_type": "code",
    "executionInfo": {
     "elapsed": 2079868,
     "status": "ok",
     "timestamp": 1592051042218,
     "user": {
      "displayName": "twotwo耿",
      "photoUrl": "https://lh3.googleusercontent.com/a-/AOh14Ghxb2KsB3r-QIzNwMGfkePpyl9-6g9sGERnozQb=s64",
      "userId": "01978799571506321797"
     },
     "user_tz": -480
    },
    "id": "jFugLsBzd0kA",
    "outputId": "fc8d6a04-accb-4d91-b260-a8aab8c341da"
   },
   "outputs": [
    {
     "name": "stdout",
     "output_type": "stream",
     "text": [
      "Epoch 1 running, loss is 0.3402, training accuracy is 0.8474, and step cost is 0.1094.\n",
      "Epoch 1 running, loss is 0.301, training accuracy is 0.8691, and step cost is 0.1086.\n",
      "Epoch 1 running, loss is 0.2825, training accuracy is 0.8781, and step cost is 0.1079.\n",
      "Epoch 1 completed, training accuracy is 0.8825, and dev accuracy is 0.8053.\n",
      "**********\n",
      "Epoch 2 running, loss is 0.2702, training accuracy is 0.9148, and step cost is 0.1113.\n",
      "Epoch 2 running, loss is 0.2587, training accuracy is 0.9111, and step cost is 0.109.\n",
      "Epoch 2 running, loss is 0.2504, training accuracy is 0.9131, and step cost is 0.1113.\n",
      "Epoch 2 running, loss is 0.2437, training accuracy is 0.9146, and step cost is 0.1126.\n",
      "Epoch 2 completed, training accuracy is 0.915, and dev accuracy is 0.8381.\n",
      "**********\n",
      "Epoch 3 running, loss is 0.2362, training accuracy is 0.9343, and step cost is 0.1078.\n",
      "Epoch 3 running, loss is 0.2289, training accuracy is 0.9328, and step cost is 0.1092.\n",
      "Epoch 3 running, loss is 0.2231, training accuracy is 0.9325, and step cost is 0.1102.\n",
      "Epoch 3 running, loss is 0.218, training accuracy is 0.9324, and step cost is 0.1096.\n",
      "Epoch 3 completed, training accuracy is 0.9325, and dev accuracy is 0.8419.\n",
      "**********\n",
      "Epoch 4 running, loss is 0.2113, training accuracy is 0.9509, and step cost is 0.111.\n",
      "Epoch 4 running, loss is 0.2047, training accuracy is 0.9513, and step cost is 0.1094.\n",
      "Epoch 4 running, loss is 0.1992, training accuracy is 0.9512, and step cost is 0.1098.\n",
      "Epoch 4 completed, training accuracy is 0.9513, and dev accuracy is 0.85.\n",
      "**********\n",
      "Epoch 5 running, loss is 0.1941, training accuracy is 0.9727, and step cost is 0.1082.\n",
      "Epoch 5 running, loss is 0.1876, training accuracy is 0.9684, and step cost is 0.1089.\n",
      "Epoch 5 running, loss is 0.1817, training accuracy is 0.9689, and step cost is 0.1094.\n",
      "Epoch 5 running, loss is 0.1765, training accuracy is 0.969, and step cost is 0.1095.\n",
      "Epoch 5 completed, training accuracy is 0.9691, and dev accuracy is 0.8514.\n",
      "**********\n"
     ]
    }
   ],
   "source": [
    "temp_1 = 'Epoch {} running, loss is {}, training accuracy is {}, and step cost is {}.'\n",
    "temp_2 = 'Epoch {} completed, training accuracy is {}, and dev accuracy is {}.'\n",
    "coun_1 = 0\n",
    "\n",
    "for e_1 in range(EPOCH):\n",
    "  for x_1, x_2, x_3, y_1 in trai_2:\n",
    "    time_1, coun_1 = time.time(), coun_1+1\n",
    "    step_training(x_1, x_2, x_3, y_1)\n",
    "\n",
    "    if coun_1 % 1000 == 0:\n",
    "      o_1, o_2 = round(float(loss_1.result()), 4), round(float(accu_1.result()), 4)\n",
    "      print(temp_1.format(e_1+1, o_1, o_2, round(time.time()-time_1, 4)))\n",
    "\n",
    "  for x_1, x_2, x_3, y_1 in deve_2:\n",
    "    step_evaluating(x_1, x_2, x_3, y_1)\n",
    "\n",
    "  print(temp_2.format(e_1+1, round(float(accu_1.result()), 4), round(float(accu_2.result()), 4)))\n",
    "  print('**********')\n",
    "  accu_1.reset_states()\n",
    "  accu_2.reset_states()"
   ]
  },
  {
   "cell_type": "code",
   "execution_count": 9,
   "metadata": {
    "colab": {
     "base_uri": "https://localhost:8080/",
     "height": 34
    },
    "colab_type": "code",
    "executionInfo": {
     "elapsed": 10113,
     "status": "ok",
     "timestamp": 1592051059274,
     "user": {
      "displayName": "twotwo耿",
      "photoUrl": "https://lh3.googleusercontent.com/a-/AOh14Ghxb2KsB3r-QIzNwMGfkePpyl9-6g9sGERnozQb=s64",
      "userId": "01978799571506321797"
     },
     "user_tz": -480
    },
    "id": "UrFBrWG-SGtK",
    "outputId": "de1d80fe-5872-42ea-e460-2116ce3da8c1"
   },
   "outputs": [
    {
     "name": "stdout",
     "output_type": "stream",
     "text": [
      "Test accuracy is 0.845.\n"
     ]
    }
   ],
   "source": [
    "c_1, c_2 = 0, 0\n",
    "\n",
    "for x_1, x_2, x_3, y_1 in test_2:\n",
    "  pred_1 = mode_1.propagating(x_1, x_2, x_3, False)\n",
    "  comp_1 = sum(np.array(y_1)==np.argmax(pred_1, 1))\n",
    "  c_1, c_2 = c_1+len(pred_1), c_2+comp_1\n",
    "\n",
    "print('Test accuracy is '+str(round(float(c_2/c_1), 4))+'.')"
   ]
  }
 ],
 "metadata": {
  "accelerator": "GPU",
  "colab": {
   "collapsed_sections": [],
   "machine_shape": "hm",
   "name": "text_sim.ipynb",
   "provenance": []
  },
  "kernelspec": {
   "display_name": "Python 3",
   "language": "python",
   "name": "python3"
  },
  "language_info": {
   "codemirror_mode": {
    "name": "ipython",
    "version": 3
   },
   "file_extension": ".py",
   "mimetype": "text/x-python",
   "name": "python",
   "nbconvert_exporter": "python",
   "pygments_lexer": "ipython3",
   "version": "3.7.4"
  }
 },
 "nbformat": 4,
 "nbformat_minor": 1
}
